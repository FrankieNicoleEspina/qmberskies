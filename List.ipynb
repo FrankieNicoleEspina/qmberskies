{
 "cells": [
  {
   "cell_type": "code",
   "execution_count": 7,
   "metadata": {},
   "outputs": [
    {
     "name": "stdout",
     "output_type": "stream",
     "text": [
      "['frankie', 'nicole', 'espina']\n"
     ]
    }
   ],
   "source": [
    "thislist = [\"frankie\", \"nicole\", \"espina\"]\n",
    "print(thislist)"
   ]
  },
  {
   "cell_type": "code",
   "execution_count": 8,
   "metadata": {},
   "outputs": [
    {
     "name": "stdout",
     "output_type": "stream",
     "text": [
      "['frankie', 'robelyn', 'paula', 'neldine', 'art']\n"
     ]
    }
   ],
   "source": [
    "thislist = [\"frankie\", \"robelyn\", \"paula\", \"neldine\", \"art\"]\n",
    "print(thislist)"
   ]
  },
  {
   "cell_type": "code",
   "execution_count": 12,
   "metadata": {},
   "outputs": [
    {
     "name": "stdout",
     "output_type": "stream",
     "text": [
      "4\n"
     ]
    }
   ],
   "source": [
    "thislist = [\"frankie\", \"nicole\", \"lim\", \"espina\"]\n",
    "print(len(thislist))"
   ]
  },
  {
   "cell_type": "code",
   "execution_count": 17,
   "metadata": {},
   "outputs": [
    {
     "name": "stdout",
     "output_type": "stream",
     "text": [
      "['frankie', 'nicole', 'espina']\n",
      "[8, 2, 1, 1, 3]\n",
      "[True, False, False]\n"
     ]
    }
   ],
   "source": [
    "list1 = [\"frankie\", \"nicole\", \"espina\"]\n",
    "list2 = [8, 2, 1, 1, 3]\n",
    "list3 = [True, False, False]\n",
    "\n",
    "print(list1)\n",
    "print(list2)\n",
    "print(list3)\n"
   ]
  },
  {
   "cell_type": "code",
   "execution_count": 19,
   "metadata": {},
   "outputs": [
    {
     "name": "stdout",
     "output_type": "stream",
     "text": [
      "['fne', 21, True, 19, 'female']\n"
     ]
    }
   ],
   "source": [
    "list1 = [\"fne\", 21, True, 19, \"female\"]\n",
    "\n",
    "print(list1)\n"
   ]
  },
  {
   "cell_type": "code",
   "execution_count": 23,
   "metadata": {},
   "outputs": [
    {
     "name": "stdout",
     "output_type": "stream",
     "text": [
      "<class 'list'>\n"
     ]
    }
   ],
   "source": [
    "mylist = [\"frankie\", \"nicole\", \"espina\"]\n",
    "\n",
    "print(type(mylist))\n"
   ]
  },
  {
   "cell_type": "code",
   "execution_count": 24,
   "metadata": {},
   "outputs": [
    {
     "name": "stdout",
     "output_type": "stream",
     "text": [
      "['espina', 'frankie', 'nicole']\n"
     ]
    }
   ],
   "source": [
    "thislist= list((\"espina\", \"frankie\", \"nicole\"))\n",
    "print(thislist)\n"
   ]
  },
  {
   "cell_type": "code",
   "execution_count": 25,
   "metadata": {},
   "outputs": [
    {
     "name": "stdout",
     "output_type": "stream",
     "text": [
      "nicole\n"
     ]
    }
   ],
   "source": [
    "thislist = [\"frankie\", \"nicole\", \"espina\"]\n",
    "print(thislist[1])\n"
   ]
  },
  {
   "cell_type": "code",
   "execution_count": 26,
   "metadata": {},
   "outputs": [
    {
     "name": "stdout",
     "output_type": "stream",
     "text": [
      "espina\n"
     ]
    }
   ],
   "source": [
    "thislist = [\"frankie\", \"nicole\", \"espina\"]\n",
    "print(thislist[-1])"
   ]
  },
  {
   "cell_type": "code",
   "execution_count": 28,
   "metadata": {},
   "outputs": [
    {
     "name": "stdout",
     "output_type": "stream",
     "text": [
      "['bait', 'simba', 'scarlet']\n"
     ]
    }
   ],
   "source": [
    "thislist = [\"athena\", \"casper\", \"bait\", \"simba\", \"scarlet\", \"calli\", \"kulet\"]\n",
    "print(thislist[2:5])"
   ]
  },
  {
   "cell_type": "code",
   "execution_count": 29,
   "metadata": {},
   "outputs": [
    {
     "name": "stdout",
     "output_type": "stream",
     "text": [
      "['vince', 'rixter', 'daniel', 'neldine']\n"
     ]
    }
   ],
   "source": [
    "thislist = [\"vince\", \"rixter\", \"daniel\", \"neldine\", \"art\", \"paula\", \"rob\"]\n",
    "print(thislist[:4])"
   ]
  },
  {
   "cell_type": "code",
   "execution_count": 30,
   "metadata": {},
   "outputs": [
    {
     "name": "stdout",
     "output_type": "stream",
     "text": [
      "['rei', 'ely', 'ali']\n"
     ]
    }
   ],
   "source": [
    "thislist = [\"kim\", \"jj\", \"lyncel\", \"rei\", \"ely\", \"ali\", \"alexis\"]\n",
    "print(thislist[-4:-1])"
   ]
  },
  {
   "cell_type": "code",
   "execution_count": 33,
   "metadata": {},
   "outputs": [
    {
     "name": "stdout",
     "output_type": "stream",
     "text": [
      "Yes, 'frankie' is my first name.\n"
     ]
    }
   ],
   "source": [
    "thislist = [\"frankie\", \"nicole\", \"espina\"]\n",
    "if \"frankie\" in thislist:\n",
    "  print(\"Yes, 'frankie' is my first name.\")"
   ]
  },
  {
   "cell_type": "code",
   "execution_count": 35,
   "metadata": {},
   "outputs": [
    {
     "name": "stdout",
     "output_type": "stream",
     "text": [
      "['frankie', 'lim', 'espina']\n"
     ]
    }
   ],
   "source": [
    "thislist = [\"frankie\", \"nicole\", \"espina\"]\n",
    "thislist[1] = \"lim\"\n",
    "print(thislist)"
   ]
  },
  {
   "cell_type": "code",
   "execution_count": 37,
   "metadata": {},
   "outputs": [
    {
     "name": "stdout",
     "output_type": "stream",
     "text": [
      "['siamese cat', 'american shorthair', 'scottish fold', 'persian cat', 'ragdoll', 'sphynx cat']\n"
     ]
    }
   ],
   "source": [
    "thislist = [\"siamese cat\", \"british cat\", \"maine coon\", \"persian cat\", \"ragdoll\", \"sphynx cat\"]\n",
    "thislist[1:3] = [\"american shorthair\", \"scottish fold\"]\n",
    "print(thislist)"
   ]
  },
  {
   "cell_type": "code",
   "execution_count": 2,
   "metadata": {},
   "outputs": [
    {
     "name": "stdout",
     "output_type": "stream",
     "text": [
      "['german shepherd', 'golden retriever', 'siberian husky', 'labrador retriever']\n"
     ]
    }
   ],
   "source": [
    "thislist = [\"german shepherd\", \"bulldog\", \"labrador retriever\"]\n",
    "thislist[1:2] = [\"golden retriever\", \"siberian husky\"]\n",
    "print(thislist)\n"
   ]
  },
  {
   "cell_type": "code",
   "execution_count": 1,
   "metadata": {},
   "outputs": [
    {
     "name": "stdout",
     "output_type": "stream",
     "text": [
      "['cooper', 'qtie']\n"
     ]
    }
   ],
   "source": [
    "thislist = [\"cooper\", \"qtie\", \"cobi\"]\n",
    "thislist[1:3] = [\"qtie\"]\n",
    "print(thislist)"
   ]
  },
  {
   "cell_type": "code",
   "execution_count": 4,
   "metadata": {},
   "outputs": [
    {
     "name": "stdout",
     "output_type": "stream",
     "text": [
      "['mango', 'orange', 'watermelon', 'banana']\n"
     ]
    }
   ],
   "source": [
    "thislist = [\"mango\", \"orange\", \"banana\"]\n",
    "thislist.insert(2, \"watermelon\")\n",
    "print(thislist)"
   ]
  },
  {
   "cell_type": "code",
   "execution_count": 5,
   "metadata": {},
   "outputs": [
    {
     "name": "stdout",
     "output_type": "stream",
     "text": [
      "['blue', 'yellow', 'green', 'black']\n"
     ]
    }
   ],
   "source": [
    "thislist = [\"blue\", \"yellow\", \"green\"]\n",
    "thislist.append(\"black\")\n",
    "print(thislist)"
   ]
  },
  {
   "cell_type": "code",
   "execution_count": 9,
   "metadata": {},
   "outputs": [
    {
     "name": "stdout",
     "output_type": "stream",
     "text": [
      "['06', 'date', '08', '2021']\n"
     ]
    }
   ],
   "source": [
    "thislist = [\"06\", \"08\", \"2021\"]\n",
    "thislist.insert(1, \"date\")\n",
    "print(thislist)"
   ]
  },
  {
   "cell_type": "code",
   "execution_count": 10,
   "metadata": {},
   "outputs": [
    {
     "name": "stdout",
     "output_type": "stream",
     "text": [
      "['pink', 'blue', 'white', 'black', 'violet', 'red']\n"
     ]
    }
   ],
   "source": [
    "thislist = [\"pink\", \"blue\", \"white\"]\n",
    "tropical = [\"black\", \"violet\", \"red\"]\n",
    "thislist.extend(tropical)\n",
    "print(thislist)\n"
   ]
  },
  {
   "cell_type": "code",
   "execution_count": 11,
   "metadata": {},
   "outputs": [
    {
     "name": "stdout",
     "output_type": "stream",
     "text": [
      "['loki', 'kiwi', 'berry', 'kiwi', 'orange']\n"
     ]
    }
   ],
   "source": [
    "thislist = [\"loki\", \"kiwi\", \"berry\"]\n",
    "thistuple = (\"kiwi\", \"orange\")\n",
    "thislist.extend(thistuple)\n",
    "print(thislist)"
   ]
  },
  {
   "cell_type": "code",
   "execution_count": 13,
   "metadata": {},
   "outputs": [
    {
     "name": "stdout",
     "output_type": "stream",
     "text": [
      "['loki', 'berry']\n"
     ]
    }
   ],
   "source": [
    "thislist = [\"loki\", \"kiwi\", \"berry\"]\n",
    "thislist.remove(\"kiwi\")\n",
    "print(thislist)"
   ]
  },
  {
   "cell_type": "code",
   "execution_count": 15,
   "metadata": {},
   "outputs": [
    {
     "name": "stdout",
     "output_type": "stream",
     "text": [
      "[]\n"
     ]
    }
   ],
   "source": [
    "thislist = [\"loki\", \"kiwi\", \"berry\"]\n",
    "thislist.clear()\n",
    "print(thislist)\n"
   ]
  },
  {
   "cell_type": "code",
   "execution_count": 17,
   "metadata": {},
   "outputs": [
    {
     "name": "stdout",
     "output_type": "stream",
     "text": [
      "Frankie\n",
      "Nicole\n",
      "Espina\n"
     ]
    }
   ],
   "source": [
    "thislist = [\"Frankie\", \"Nicole\", \"Espina\"]\n",
    "for x in thislist:\n",
    "  print(x)\n"
   ]
  },
  {
   "cell_type": "code",
   "execution_count": 19,
   "metadata": {},
   "outputs": [
    {
     "name": "stdout",
     "output_type": "stream",
     "text": [
      "['athena', 'casper', 'simba', 'scarlet']\n"
     ]
    }
   ],
   "source": [
    "fruits = [\"loki\", \"athena\", \"casper\", \"simba\", \"scarlet\"]\n",
    "newlist = []\n",
    "\n",
    "for x in fruits:\n",
    "  if \"a\" in x:\n",
    "    newlist.append(x)\n",
    "\n",
    "print(newlist)"
   ]
  },
  {
   "cell_type": "code",
   "execution_count": 20,
   "metadata": {},
   "outputs": [
    {
     "name": "stdout",
     "output_type": "stream",
     "text": [
      "['black', 'blue', 'green', 'pink', 'violet']\n"
     ]
    }
   ],
   "source": [
    "thislist = [\"pink\", \"blue\", \"green\", \"black\", \"violet\"]\n",
    "thislist.sort()\n",
    "print(thislist)"
   ]
  },
  {
   "cell_type": "code",
   "execution_count": 22,
   "metadata": {},
   "outputs": [
    {
     "name": "stdout",
     "output_type": "stream",
     "text": [
      "[50, 40, 30, 20, 10]\n"
     ]
    }
   ],
   "source": [
    "def myfunc(n):\n",
    "  return abs(n - 50)\n",
    "\n",
    "thislist = [10, 20, 30, 40, 50]\n",
    "thislist.sort(key = myfunc)\n",
    "print(thislist)"
   ]
  },
  {
   "cell_type": "code",
   "execution_count": 23,
   "metadata": {},
   "outputs": [
    {
     "name": "stdout",
     "output_type": "stream",
     "text": [
      "['Kiwi', 'Orange', 'banana', 'cherry']\n"
     ]
    }
   ],
   "source": [
    "thislist = [\"banana\", \"Orange\", \"Kiwi\", \"cherry\"]\n",
    "thislist.sort()\n",
    "print(thislist)"
   ]
  }
 ],
 "metadata": {
  "kernelspec": {
   "display_name": "Python 3.10.7 64-bit",
   "language": "python",
   "name": "python3"
  },
  "language_info": {
   "codemirror_mode": {
    "name": "ipython",
    "version": 3
   },
   "file_extension": ".py",
   "mimetype": "text/x-python",
   "name": "python",
   "nbconvert_exporter": "python",
   "pygments_lexer": "ipython3",
   "version": "3.10.7"
  },
  "orig_nbformat": 4,
  "vscode": {
   "interpreter": {
    "hash": "0d72b21489300652f2337cd7f80c57cc00ce6bbc92cf98d285c178d0a8ced433"
   }
  }
 },
 "nbformat": 4,
 "nbformat_minor": 2
}
